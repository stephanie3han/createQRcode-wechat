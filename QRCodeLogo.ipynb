{
 "cells": [
  {
   "cell_type": "code",
   "execution_count": 5,
   "id": "f2eb51eb",
   "metadata": {},
   "outputs": [],
   "source": [
    "import qrcode\n",
    "from PIL import Image\n",
    "import os\n",
    "import sys\n"
   ]
  },
  {
   "cell_type": "code",
   "execution_count": 18,
   "id": "2be9d8ff",
   "metadata": {},
   "outputs": [],
   "source": [
    "\n",
    "def gen_qrcode(string, path, logo=\"\"):\n",
    "    \"\"\"\n",
    "    生成中间带logo的二维码\n",
    "    需要安装qrcode, PIL库\n",
    "    @参数 string: 二维码字符串\n",
    "    @参数 path: 生成的二维码保存路径\n",
    "    @参数 logo: logo文件路径\n",
    "    @return: None\n",
    "    \"\"\"\n",
    "    qr = qrcode.QRCode(\n",
    "        version=2,  #25*25     二维码的版本号，每一个版本号对应一个尺寸，这里尺寸不是图片的大小而的是二维码长宽被分成的份数\n",
    "        error_correction=qrcode.constants.ERROR_CORRECT_H,     #纠错容量，指二维码不完整时可以正常识别出原信息的概率（ERROR_CORRECT_H的纠错率最高）\n",
    "        box_size=8,    #生成图片的像素\n",
    "        border=1,      #二维码边框宽度\n",
    "    )\n",
    "    qr.add_data(string)  #string为想要打开的链接\n",
    "    qr.make(fit=True)    #用make()方法生成图片\n",
    "    img = qr.make_image(fill_color = 'black',back_color = 'white')  #得到二维码对象，并可以通过修改fill_color、back_color参数来调整小格子颜色和背景色\n",
    "    img = img.convert(\"RGBA\")  #将图片转换为RGBA格式\n",
    "    if logo and os.path.exists(logo):\n",
    "        try:\n",
    "            icon = Image.open(logo)\n",
    "            img_w, img_h = img.size  #img_w、img_h是二维码的尺寸\n",
    "        except Exception as e:\n",
    "            print(e) \n",
    "            sys.exit(1)\n",
    "        factor = 4\n",
    "        size_w = int(img_w / factor)\n",
    "        size_h = int(img_h / factor)\n",
    "\n",
    "        icon_w, icon_h = icon.size   #icon_W、icon_h是logo原始的尺寸\n",
    "        if icon_w > size_w:          #size_W、size_h是二维码尺寸的1/factor\n",
    "            icon_w = size_w\n",
    "        if icon_h > size_h:\n",
    "            icon_h = size_h\n",
    "        icon = icon.resize((icon_w, icon_h), Image.ANTIALIAS)   #antialias是平滑处理\n",
    "        # 保证二维码大小不超过二维码大小的1/factor\n",
    "\n",
    "        w = int((img_w - icon_w) / 2)  #计算logo在二维码中的相对位置\n",
    "        h = int((img_h - icon_h) / 2)\n",
    "        icon = icon.convert(\"RGBA\")\n",
    "        img.paste(icon, (w, h), icon)  #根据相对位置w、h将logo放到二维码图片上，所以说实际是logo并不是二维码的一部分，会遮挡二维码的一部分，不能太大，否则无法识别\n",
    "    img.save(path)\n",
    "    # 调用系统命令打开图片\n",
    "    # xdg - open(opens a file or URL in the user's preferred application)\n",
    "    #os.system('xdg-open %s' %(path)) #这是Linux系统的命令\n",
    "    os.startfile(path) #windows 下打开文件\n"
   ]
  },
  {
   "cell_type": "code",
   "execution_count": 21,
   "id": "523fb3d1",
   "metadata": {},
   "outputs": [
    {
     "name": "stderr",
     "output_type": "stream",
     "text": [
      "C:\\Users\\Xia HAN\\AppData\\Local\\Temp\\ipykernel_3248\\3164473029.py:36: DeprecationWarning: ANTIALIAS is deprecated and will be removed in Pillow 10 (2023-07-01). Use LANCZOS or Resampling.LANCZOS instead.\n",
      "  icon = icon.resize((icon_w, icon_h), Image.ANTIALIAS)   #antialias是平滑处理\n"
     ]
    }
   ],
   "source": [
    "if __name__ == \"__main__\":\n",
    "    info = \"https://www.aiforu.com/\"            #二维码的链接\n",
    "    pic_path = \"QRwang.png\"                       #生成的图片保存文件\n",
    "    logo_path = \"Wang.png\"                    #logo的文件名\n",
    "    gen_qrcode(info, pic_path,logo_path )     #调用函数\n"
   ]
  },
  {
   "cell_type": "code",
   "execution_count": null,
   "id": "c7c678fc",
   "metadata": {},
   "outputs": [],
   "source": []
  }
 ],
 "metadata": {
  "kernelspec": {
   "display_name": "Python 3 (ipykernel)",
   "language": "python",
   "name": "python3"
  },
  "language_info": {
   "codemirror_mode": {
    "name": "ipython",
    "version": 3
   },
   "file_extension": ".py",
   "mimetype": "text/x-python",
   "name": "python",
   "nbconvert_exporter": "python",
   "pygments_lexer": "ipython3",
   "version": "3.9.7"
  }
 },
 "nbformat": 4,
 "nbformat_minor": 5
}
