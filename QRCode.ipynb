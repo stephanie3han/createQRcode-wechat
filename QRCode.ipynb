{
 "cells": [
  {
   "cell_type": "code",
   "execution_count": 26,
   "id": "797d9afd",
   "metadata": {},
   "outputs": [],
   "source": [
    "\n",
    "import qrcode\n",
    "import random\n",
    "import string"
   ]
  },
  {
   "cell_type": "code",
   "execution_count": 27,
   "id": "016a2c4f",
   "metadata": {},
   "outputs": [],
   "source": [
    "# 生成随机字符串作为二维码的内容\n",
    "def generate_random_string(length):\n",
    "    letters_and_digits = string.ascii_letters + string.digits\n",
    "    return ''.join(random.choice(letters_and_digits) for _ in range(length))\n"
   ]
  },
  {
   "cell_type": "code",
   "execution_count": 28,
   "id": "8d077d31",
   "metadata": {},
   "outputs": [],
   "source": [
    "# 生成二维码并保存为图片\n",
    "def generate_qr_code(content, filename):\n",
    "    qr = qrcode.QRCode(\n",
    "        version=1,\n",
    "        error_correction=qrcode.constants.ERROR_CORRECT_L,\n",
    "        box_size=10,\n",
    "        border=2,\n",
    "    )\n",
    "    qr.add_data(content)\n",
    "    qr.make(fit=True)\n",
    "\n",
    "    image = qr.make_image(fill_color=\"black\", back_color=\"white\")\n",
    "    image.save(filename)\n"
   ]
  },
  {
   "cell_type": "code",
   "execution_count": 29,
   "id": "e7811c7e",
   "metadata": {},
   "outputs": [
    {
     "name": "stdout",
     "output_type": "stream",
     "text": [
      "随机二维码生成成功，保存为：random_qr_code.png\n"
     ]
    }
   ],
   "source": [
    "#生成随机字符串作为二维码内容\n",
    "#random_string = generate_random_string(10)\n",
    "\n",
    "# 生成二维码并保存为图片\n",
    "filename = \"random_qr_code.png\"\n",
    "generate_qr_code(\"王可爱呀王可爱\", filename)\n",
    "print(\"随机二维码生成成功，保存为：\" + filename)\n"
   ]
  },
  {
   "cell_type": "code",
   "execution_count": null,
   "id": "b40c6497",
   "metadata": {},
   "outputs": [],
   "source": []
  }
 ],
 "metadata": {
  "kernelspec": {
   "display_name": "Python 3 (ipykernel)",
   "language": "python",
   "name": "python3"
  },
  "language_info": {
   "codemirror_mode": {
    "name": "ipython",
    "version": 3
   },
   "file_extension": ".py",
   "mimetype": "text/x-python",
   "name": "python",
   "nbconvert_exporter": "python",
   "pygments_lexer": "ipython3",
   "version": "3.9.7"
  }
 },
 "nbformat": 4,
 "nbformat_minor": 5
}
